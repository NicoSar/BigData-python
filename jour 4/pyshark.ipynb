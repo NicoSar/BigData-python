{
  "nbformat": 4,
  "nbformat_minor": 0,
  "metadata": {
    "colab": {
      "name": "Untitled0.ipynb",
      "provenance": [],
      "collapsed_sections": []
    },
    "kernelspec": {
      "name": "python3",
      "display_name": "Python 3"
    }
  },
  "cells": [
    {
      "cell_type": "code",
      "metadata": {
        "id": "75d8EU7qoim-",
        "colab_type": "code",
        "outputId": "89bf7db7-8128-41f4-eebb-e4c42f697a0d",
        "colab": {
          "base_uri": "https://localhost:8080/",
          "height": 68
        }
      },
      "source": [
        "! pip list | grep pyspark\n",
        "! pip install pyspark\n",
        "from pyspark import *\n",
        "from pyspark import SQLContext\n",
        "import urllib\n",
        "from pyspark.sql.types import *"
      ],
      "execution_count": 1,
      "outputs": [
        {
          "output_type": "stream",
          "text": [
            "pyspark                  2.4.4      \n",
            "Requirement already satisfied: pyspark in /usr/local/lib/python3.6/dist-packages (2.4.4)\n",
            "Requirement already satisfied: py4j==0.10.7 in /usr/local/lib/python3.6/dist-packages (from pyspark) (0.10.7)\n"
          ],
          "name": "stdout"
        }
      ]
    },
    {
      "cell_type": "code",
      "metadata": {
        "id": "Oo0YBsZpqCQT",
        "colab_type": "code",
        "outputId": "9d316371-c3ca-4b27-8fa4-9f821bdd7916",
        "colab": {
          "base_uri": "https://localhost:8080/",
          "height": 193
        }
      },
      "source": [
        "sc = SparkContext(master=\"local\", appName=\"test\")\n",
        "sc"
      ],
      "execution_count": 2,
      "outputs": [
        {
          "output_type": "execute_result",
          "data": {
            "text/html": [
              "\n",
              "        <div>\n",
              "            <p><b>SparkContext</b></p>\n",
              "\n",
              "            <p><a href=\"http://8ed6bd0f7ee6:4040\">Spark UI</a></p>\n",
              "\n",
              "            <dl>\n",
              "              <dt>Version</dt>\n",
              "                <dd><code>v2.4.4</code></dd>\n",
              "              <dt>Master</dt>\n",
              "                <dd><code>local</code></dd>\n",
              "              <dt>AppName</dt>\n",
              "                <dd><code>test</code></dd>\n",
              "            </dl>\n",
              "        </div>\n",
              "        "
            ],
            "text/plain": [
              "<SparkContext master=local appName=test>"
            ]
          },
          "metadata": {
            "tags": []
          },
          "execution_count": 2
        }
      ]
    },
    {
      "cell_type": "code",
      "metadata": {
        "id": "eTN7qzJMosS0",
        "colab_type": "code",
        "outputId": "44e25e59-8deb-4595-bf5f-a9f661df46fa",
        "colab": {
          "base_uri": "https://localhost:8080/",
          "height": 34
        }
      },
      "source": [
        "data = urllib.request.urlretrieve('http://kdd.ics.uci.edu/databases/kddcup99/kddcup.data_10_percent.gz', 'kddcup.data_10_percent.gz')\n",
        "data_file = './kddcup.data_10_percent.gz'\n",
        "\n",
        "df = sc.textFile(data_file)\n",
        "print(\"data_loaded\")"
      ],
      "execution_count": 3,
      "outputs": [
        {
          "output_type": "stream",
          "text": [
            "data_loaded\n"
          ],
          "name": "stdout"
        }
      ]
    },
    {
      "cell_type": "code",
      "metadata": {
        "id": "NaR2OqDDqA29",
        "colab_type": "code",
        "colab": {
          "base_uri": "https://localhost:8080/",
          "height": 34
        },
        "outputId": "72214a9c-e938-4d43-8fa7-1a16ed0e35b7"
      },
      "source": [
        "sqlContext = SQLContext(sc)\n",
        "sqlContext"
      ],
      "execution_count": 4,
      "outputs": [
        {
          "output_type": "execute_result",
          "data": {
            "text/plain": [
              "<pyspark.sql.context.SQLContext at 0x7f1cf2065470>"
            ]
          },
          "metadata": {
            "tags": []
          },
          "execution_count": 4
        }
      ]
    },
    {
      "cell_type": "code",
      "metadata": {
        "id": "2JNwHj3Kq2WO",
        "colab_type": "code",
        "colab": {}
      },
      "source": [
        "df = df.map( lambda x: x.split(','))"
      ],
      "execution_count": 0,
      "outputs": []
    },
    {
      "cell_type": "code",
      "metadata": {
        "id": "anGCVcy_Zda0",
        "colab_type": "code",
        "colab": {
          "base_uri": "https://localhost:8080/",
          "height": 54
        },
        "outputId": "4c3ba41d-62a9-4151-b747-10ed35250b98"
      },
      "source": [
        "structure = StructType([\n",
        "        StructField(\"duration\", IntegerType(), True),\n",
        "        StructField(\"protocol_type\", StringType(), True),\n",
        "        StructField(\"service\", StringType(), True),\n",
        "        StructField(\"flag\", StringType(), True),\n",
        "        StructField(\"src_bytes\",IntegerType(), True),\n",
        "        StructField(\"dst_bytes\",IntegerType(), True),\n",
        "        StructField(\"interactions\", StringType(), True),\n",
        "])\n",
        "structure"
      ],
      "execution_count": 6,
      "outputs": [
        {
          "output_type": "execute_result",
          "data": {
            "text/plain": [
              "StructType(List(StructField(duration,IntegerType,true),StructField(protocol_type,StringType,true),StructField(service,StringType,true),StructField(flag,StringType,true),StructField(src_bytes,IntegerType,true),StructField(dst_bytes,IntegerType,true),StructField(interactions,StringType,true)))"
            ]
          },
          "metadata": {
            "tags": []
          },
          "execution_count": 6
        }
      ]
    },
    {
      "cell_type": "code",
      "metadata": {
        "id": "RNzMDhjFZkD0",
        "colab_type": "code",
        "colab": {}
      },
      "source": [
        "formatedData = df.map(lambda key: (int(key[0]), key[1], key[2], key[3], int(key[4]), int(key[5]), key[-1]))"
      ],
      "execution_count": 0,
      "outputs": []
    },
    {
      "cell_type": "code",
      "metadata": {
        "id": "GLD-58fcZmtw",
        "colab_type": "code",
        "colab": {}
      },
      "source": [
        "data = sqlContext.createDataFrame(formatedData, structure)"
      ],
      "execution_count": 0,
      "outputs": []
    },
    {
      "cell_type": "code",
      "metadata": {
        "id": "7uIy75a3Znp6",
        "colab_type": "code",
        "colab": {
          "base_uri": "https://localhost:8080/",
          "height": 289
        },
        "outputId": "6c171d0c-7a0e-4238-aa5e-64c692fa50e0"
      },
      "source": [
        "data.show(10)"
      ],
      "execution_count": 9,
      "outputs": [
        {
          "output_type": "stream",
          "text": [
            "+--------+-------------+-------+----+---------+---------+------------+\n",
            "|duration|protocol_type|service|flag|src_bytes|dst_bytes|interactions|\n",
            "+--------+-------------+-------+----+---------+---------+------------+\n",
            "|       0|          tcp|   http|  SF|      181|     5450|     normal.|\n",
            "|       0|          tcp|   http|  SF|      239|      486|     normal.|\n",
            "|       0|          tcp|   http|  SF|      235|     1337|     normal.|\n",
            "|       0|          tcp|   http|  SF|      219|     1337|     normal.|\n",
            "|       0|          tcp|   http|  SF|      217|     2032|     normal.|\n",
            "|       0|          tcp|   http|  SF|      217|     2032|     normal.|\n",
            "|       0|          tcp|   http|  SF|      212|     1940|     normal.|\n",
            "|       0|          tcp|   http|  SF|      159|     4087|     normal.|\n",
            "|       0|          tcp|   http|  SF|      210|      151|     normal.|\n",
            "|       0|          tcp|   http|  SF|      212|      786|     normal.|\n",
            "+--------+-------------+-------+----+---------+---------+------------+\n",
            "only showing top 10 rows\n",
            "\n"
          ],
          "name": "stdout"
        }
      ]
    },
    {
      "cell_type": "code",
      "metadata": {
        "id": "pIqPbGnlZpN6",
        "colab_type": "code",
        "colab": {}
      },
      "source": [
        "data.createOrReplaceTempView(\"interactions\")"
      ],
      "execution_count": 0,
      "outputs": []
    },
    {
      "cell_type": "code",
      "metadata": {
        "id": "GK9qHf6aZqhf",
        "colab_type": "code",
        "colab": {
          "base_uri": "https://localhost:8080/",
          "height": 34
        },
        "outputId": "8bb46eb8-73a0-4258-8eae-a8b584c758ee"
      },
      "source": [
        "le139 = data[(data['duration']>1000) & (data['dst_bytes'] == 0) & (data['protocol_type'] == \"tcp\")]\n",
        "le139.count()"
      ],
      "execution_count": 12,
      "outputs": [
        {
          "output_type": "stream",
          "text": [
            "139\n"
          ],
          "name": "stdout"
        }
      ]
    },
    {
      "cell_type": "code",
      "metadata": {
        "id": "brWjcLO6ZtsO",
        "colab_type": "code",
        "colab": {
          "base_uri": "https://localhost:8080/",
          "height": 170
        },
        "outputId": "8a36a9d9-2043-4229-a918-23d24db34e16"
      },
      "source": [
        "import time\n",
        "protocol = data[['protocol_type']].groupby(['protocol_type']).count()\n",
        "start_time= time.time()\n",
        "protocol.show()\n",
        "print(\"Temps d'execution : %s secondes ---\" % (time.time() - start_time))"
      ],
      "execution_count": 14,
      "outputs": [
        {
          "output_type": "stream",
          "text": [
            "+-------------+------+\n",
            "|protocol_type| count|\n",
            "+-------------+------+\n",
            "|          tcp|190065|\n",
            "|          udp| 20354|\n",
            "|         icmp|283602|\n",
            "+-------------+------+\n",
            "\n",
            "Temps d'execution : 9.32252287864685 secondes ---\n"
          ],
          "name": "stdout"
        }
      ]
    },
    {
      "cell_type": "code",
      "metadata": {
        "id": "95Q3FM0OZvMF",
        "colab_type": "code",
        "colab": {
          "base_uri": "https://localhost:8080/",
          "height": 136
        },
        "outputId": "1b4488bc-5152-4c6a-9095-3323ad16b6ea"
      },
      "source": [
        "durabyte = data[(data['duration']>1000) & (data['dst_bytes'] == 0)].groupby(['protocol_type']).count()\n",
        "start_time= time.time()\n",
        "durabyte.show()\n",
        "print(\"Temps d'execution : %s secondes ---\" % (time.time() - start_time))"
      ],
      "execution_count": 16,
      "outputs": [
        {
          "output_type": "stream",
          "text": [
            "+-------------+-----+\n",
            "|protocol_type|count|\n",
            "+-------------+-----+\n",
            "|          tcp|  139|\n",
            "+-------------+-----+\n",
            "\n",
            "Temps d'execution : 8.759639978408813 secondes ---\n"
          ],
          "name": "stdout"
        }
      ]
    },
    {
      "cell_type": "code",
      "metadata": {
        "id": "arnYKuDoZw32",
        "colab_type": "code",
        "colab": {
          "base_uri": "https://localhost:8080/",
          "height": 102
        },
        "outputId": "84fba550-ecff-46df-cab6-e6f888ce5830"
      },
      "source": [
        "data.rdd.map(lambda x : \"Duration: {0}, Dest. bytes: {1}\".format(x.dst_bytes,x.duration)).take(5)"
      ],
      "execution_count": 17,
      "outputs": [
        {
          "output_type": "execute_result",
          "data": {
            "text/plain": [
              "['Duration: 5450, Dest. bytes: 0',\n",
              " 'Duration: 486, Dest. bytes: 0',\n",
              " 'Duration: 1337, Dest. bytes: 0',\n",
              " 'Duration: 1337, Dest. bytes: 0',\n",
              " 'Duration: 2032, Dest. bytes: 0']"
            ]
          },
          "metadata": {
            "tags": []
          },
          "execution_count": 17
        }
      ]
    },
    {
      "cell_type": "code",
      "metadata": {
        "id": "MpuDR3xkZyDl",
        "colab_type": "code",
        "colab": {}
      },
      "source": [
        "from pyspark.sql.functions import udf\n",
        "\n",
        "def attack_or_normal_func(s):\n",
        "    return \"normal\" if s == \"normal.\" else \"attack\""
      ],
      "execution_count": 0,
      "outputs": []
    },
    {
      "cell_type": "code",
      "metadata": {
        "id": "9F9Yt-3pnuqK",
        "colab_type": "code",
        "colab": {}
      },
      "source": [
        "label = udf(attack_or_normal_func, StringType())\n",
        "data = data.withColumn('label', label(data['interactions']))\n",
        "start_time= time.time()\n",
        "data.select('label').groupby('label').count().show()\n",
        "print(\"Temps d'execution : %s secondes ---\" % (time.time() - start_time))"
      ],
      "execution_count": 0,
      "outputs": []
    },
    {
      "cell_type": "code",
      "metadata": {
        "id": "PTfq11L6Z2gX",
        "colab_type": "code",
        "colab": {
          "base_uri": "https://localhost:8080/",
          "height": 187
        },
        "outputId": "2f71e38e-e15c-4737-f18a-4ab952ef598d"
      },
      "source": [
        "data.printSchema()"
      ],
      "execution_count": 34,
      "outputs": [
        {
          "output_type": "stream",
          "text": [
            "root\n",
            " |-- duration: integer (nullable = true)\n",
            " |-- protocol_type: string (nullable = true)\n",
            " |-- service: string (nullable = true)\n",
            " |-- flag: string (nullable = true)\n",
            " |-- src_bytes: integer (nullable = true)\n",
            " |-- dst_bytes: integer (nullable = true)\n",
            " |-- interactions: string (nullable = true)\n",
            " |-- label: string (nullable = true)\n",
            "\n"
          ],
          "name": "stdout"
        }
      ]
    },
    {
      "cell_type": "code",
      "metadata": {
        "id": "yG-Ysm5tnqCw",
        "colab_type": "code",
        "colab": {}
      },
      "source": [
        "start_time= time.time()\n",
        "data.select('label','protocol_type').groupby('label','protocol_type').count().show()\n",
        "print(\"Temps d execution : %s secondes ---\" % (time.time() - start_time))"
      ],
      "execution_count": 0,
      "outputs": []
    }
  ]
}